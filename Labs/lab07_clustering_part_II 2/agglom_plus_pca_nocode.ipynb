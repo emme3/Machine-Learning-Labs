{
 "cells": [
  {
   "attachments": {},
   "cell_type": "markdown",
   "metadata": {},
   "source": [
    "# Cluster analysis - Part II\n",
    "1. Load the data file `winequality-unsup.csv`\n",
    "    - check the shape and plot the content; is there any column clearly useless for clustering\n",
    "1. Observe the pair plot and comment the shapes in view of clustering \n",
    "1. Transform the data with PCA using the default parameters\n",
    "    1. fitting the PCA estimator, fills the attribute `.pca_explained_variance_`, it is a vector containing the explained variance for each pca component, in decreasing order; plot it using as `x` the range of positions of the vector\n",
    "    1. decide how many components should be used and keep only the interesting columns of the reduced dataset\n",
    "1. Use the reduced data for the rest of the exercise \n",
    "1. Use the elbow method to find the optimal number of clusters, to do this test `AgglomerativeClustering` with varying number of clusters, from 2 to 10: for each value of `k`\n",
    "    - fit the data\n",
    "    - compute the __silhouette score__  and store it for later use\n",
    "1. Plot the silhouette score versus `k`\n",
    "1. Choose the optimal number of clusters looking at the plots, call it `k_opt`\n",
    "1. For each possible value of the __linkage__ `'ward', 'single', 'complete', 'average'`\n",
    "    - fit the data\n",
    "    - compute the __silhouette score__  and store it for later use\n",
    "    - compute the number of elements for each cluster and store it for later use\n",
    "1. Choose the __linkage__ method producing the best result\n",
    "1. Plot the clusters using the function `plot_clusters.py`\n",
    "1. Plot the silhouettes using the function `plot_silhouette_w_mean.py`"
   ]
  },
  {
   "cell_type": "code",
   "execution_count": null,
   "metadata": {},
   "outputs": [],
   "source": [
    "# you are on your own...."
   ]
  }
 ],
 "metadata": {
  "kernelspec": {
   "display_name": "mypython",
   "language": "python",
   "name": "python3"
  },
  "language_info": {
   "codemirror_mode": {
    "name": "ipython",
    "version": 3
   },
   "file_extension": ".py",
   "mimetype": "text/x-python",
   "name": "python",
   "nbconvert_exporter": "python",
   "pygments_lexer": "ipython3",
   "version": "3.10.6"
  },
  "orig_nbformat": 4
 },
 "nbformat": 4,
 "nbformat_minor": 2
}
