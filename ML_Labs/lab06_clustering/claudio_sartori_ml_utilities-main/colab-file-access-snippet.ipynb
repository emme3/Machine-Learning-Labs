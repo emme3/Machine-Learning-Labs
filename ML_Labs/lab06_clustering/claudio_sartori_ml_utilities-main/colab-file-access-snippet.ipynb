{
 "cells": [
  {
   "cell_type": "markdown",
   "metadata": {},
   "source": [
    "# Accessing local files from Google Colab\n",
    "With this snippet your notebook can run on Colab or on a local environment without any modification.\n",
    "## Assumptions\n",
    "1. You need to use a file named `foo.csv` stored in your local computer\n",
    "2. The notebook will be run either on Colab or on your local computer, in this second case the file is in the same folder of the notebook"
   ]
  },
  {
   "cell_type": "code",
   "execution_count": 1,
   "metadata": {},
   "outputs": [],
   "source": [
    "filename = 'foo.csv'\n",
    "import sys\n",
    "IN_COLAB = 'google.colab' in sys.modules\n",
    "if IN_COLAB:\n",
    "    print(\"Upload in Colab \",filename)\n",
    "    from google.colab import files\n",
    "    # if you are running in Colab, the line below will open a dialog\n",
    "    # then you must choose 'foo.csv' in your local filesystem\n",
    "    uploaded = files.upload()\n",
    "    # now 'foo.csv' is available in your Colab environment"
   ]
  }
 ],
 "metadata": {
  "interpreter": {
   "hash": "9e9661ff702a90c68a811f719c49083f156caad2ef61e1106081a02f1f5f938a"
  },
  "kernelspec": {
   "display_name": "Python 3.8.8 64-bit ('base': conda)",
   "language": "python",
   "name": "python3"
  },
  "language_info": {
   "codemirror_mode": {
    "name": "ipython",
    "version": 3
   },
   "file_extension": ".py",
   "mimetype": "text/x-python",
   "name": "python",
   "nbconvert_exporter": "python",
   "pygments_lexer": "ipython3",
   "version": "3.8.8"
  },
  "orig_nbformat": 4
 },
 "nbformat": 4,
 "nbformat_minor": 2
}
